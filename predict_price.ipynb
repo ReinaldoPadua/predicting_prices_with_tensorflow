{
  "nbformat": 4,
  "nbformat_minor": 0,
  "metadata": {
    "colab": {
      "name": "predict_price.ipynb",
      "provenance": [],
      "collapsed_sections": []
    },
    "kernelspec": {
      "name": "python3",
      "display_name": "Python 3"
    }
  },
  "cells": [
    {
      "cell_type": "code",
      "metadata": {
        "id": "qv4Y4kK77ekx"
      },
      "source": [
        "import pathlib\n",
        "import matplotlib.pyplot as plt\n",
        "import pandas as pd\n",
        "import seaborn as sns\n",
        "import numpy as np\n",
        "import tensorflow as tf\n",
        "from tensorflow import keras\n",
        "from tensorflow.keras import layers\n",
        "from keras import metrics\n",
        "from keras.models import Sequential\n",
        "from keras.layers import LSTM\n",
        "from keras.layers import Dropout\n",
        "from keras.layers import Dense\n",
        "\n",
        "\n"
      ],
      "execution_count": 27,
      "outputs": []
    },
    {
      "cell_type": "code",
      "metadata": {
        "id": "B-NTik0b4PNh"
      },
      "source": [
        "ACTIVATION_1 = 'relu'\n",
        "ACTIVATION_2 = 'sigmoid'\n",
        "ACTIVATION_3 = 'sigmoid'\n",
        "\n",
        "EPOCHS = 10\n",
        "\n",
        "LEARNING_RATE=0.001\n",
        "\n",
        "METRICS=   ['mae', 'mse']\n",
        "\n",
        "NEURON_LAYER_1 =  32\n",
        "NEURON_LAYER_2 =  32\n",
        "NEURON_LAYER_3 = 32\n",
        "\n",
        "PERCENT_TRAINNING = 0.60 "
      ],
      "execution_count": 28,
      "outputs": []
    },
    {
      "cell_type": "code",
      "metadata": {
        "id": "tWhCf6F8pKhf",
        "colab": {
          "base_uri": "https://localhost:8080/",
          "height": 320
        },
        "outputId": "55a7e4df-0350-40ea-b162-2d193917ad39"
      },
      "source": [
        "CSV_COLUMNS = [\"stock_item_id\",\"sales_price\",\"sales_quantity\",\n",
        "               \"diference_price\",\"sales_tax_rate\",\"sales_tax_amount\",\n",
        "               \"last_cost_Price\",\"quantity_per_Outer\",\"tax_rate\",\n",
        "               \"recommended_retail_price\"]\n",
        "\n",
        "raw_dataset = pd.read_csv('exported_data_1.csv', names=CSV_COLUMNS ,\n",
        "                      na_values = \"?\", comment='\\t',\n",
        "                      sep=\";\", skipinitialspace=True,encoding = 'ISO-8859-1')\n",
        "\n",
        "dataset = raw_dataset.copy()\n",
        "\n",
        "\n",
        "dataset = dataset.dropna()\n",
        "dataset.describe()"
      ],
      "execution_count": 29,
      "outputs": [
        {
          "output_type": "execute_result",
          "data": {
            "text/html": [
              "<div>\n",
              "<style scoped>\n",
              "    .dataframe tbody tr th:only-of-type {\n",
              "        vertical-align: middle;\n",
              "    }\n",
              "\n",
              "    .dataframe tbody tr th {\n",
              "        vertical-align: top;\n",
              "    }\n",
              "\n",
              "    .dataframe thead th {\n",
              "        text-align: right;\n",
              "    }\n",
              "</style>\n",
              "<table border=\"1\" class=\"dataframe\">\n",
              "  <thead>\n",
              "    <tr style=\"text-align: right;\">\n",
              "      <th></th>\n",
              "      <th>stock_item_id</th>\n",
              "      <th>sales_price</th>\n",
              "      <th>sales_quantity</th>\n",
              "      <th>diference_price</th>\n",
              "      <th>sales_tax_rate</th>\n",
              "      <th>sales_tax_amount</th>\n",
              "      <th>last_cost_Price</th>\n",
              "      <th>quantity_per_Outer</th>\n",
              "      <th>tax_rate</th>\n",
              "      <th>recommended_retail_price</th>\n",
              "    </tr>\n",
              "  </thead>\n",
              "  <tbody>\n",
              "    <tr>\n",
              "      <th>count</th>\n",
              "      <td>228265.000000</td>\n",
              "      <td>228265.000000</td>\n",
              "      <td>228265.000000</td>\n",
              "      <td>228265.000000</td>\n",
              "      <td>228265.000000</td>\n",
              "      <td>228265.000000</td>\n",
              "      <td>228265.000000</td>\n",
              "      <td>228265.000000</td>\n",
              "      <td>228265.000000</td>\n",
              "      <td>228265.000000</td>\n",
              "    </tr>\n",
              "    <tr>\n",
              "      <th>mean</th>\n",
              "      <td>110.181285</td>\n",
              "      <td>45.591689</td>\n",
              "      <td>39.211566</td>\n",
              "      <td>22.755450</td>\n",
              "      <td>14.977307</td>\n",
              "      <td>112.948101</td>\n",
              "      <td>23.289794</td>\n",
              "      <td>7.204140</td>\n",
              "      <td>14.977307</td>\n",
              "      <td>68.347139</td>\n",
              "    </tr>\n",
              "    <tr>\n",
              "      <th>std</th>\n",
              "      <td>63.729035</td>\n",
              "      <td>139.862055</td>\n",
              "      <td>54.558829</td>\n",
              "      <td>69.473497</td>\n",
              "      <td>0.336081</td>\n",
              "      <td>217.512539</td>\n",
              "      <td>83.156475</td>\n",
              "      <td>8.197167</td>\n",
              "      <td>0.336081</td>\n",
              "      <td>209.150176</td>\n",
              "    </tr>\n",
              "    <tr>\n",
              "      <th>min</th>\n",
              "      <td>1.000000</td>\n",
              "      <td>0.660000</td>\n",
              "      <td>1.000000</td>\n",
              "      <td>0.330000</td>\n",
              "      <td>10.000000</td>\n",
              "      <td>0.380000</td>\n",
              "      <td>0.360000</td>\n",
              "      <td>1.000000</td>\n",
              "      <td>10.000000</td>\n",
              "      <td>0.990000</td>\n",
              "    </tr>\n",
              "    <tr>\n",
              "      <th>25%</th>\n",
              "      <td>54.000000</td>\n",
              "      <td>13.000000</td>\n",
              "      <td>5.000000</td>\n",
              "      <td>6.440000</td>\n",
              "      <td>15.000000</td>\n",
              "      <td>14.400000</td>\n",
              "      <td>4.500000</td>\n",
              "      <td>1.000000</td>\n",
              "      <td>15.000000</td>\n",
              "      <td>19.440000</td>\n",
              "    </tr>\n",
              "    <tr>\n",
              "      <th>50%</th>\n",
              "      <td>111.000000</td>\n",
              "      <td>18.000000</td>\n",
              "      <td>10.000000</td>\n",
              "      <td>8.910000</td>\n",
              "      <td>15.000000</td>\n",
              "      <td>34.500000</td>\n",
              "      <td>8.000000</td>\n",
              "      <td>1.000000</td>\n",
              "      <td>15.000000</td>\n",
              "      <td>26.910000</td>\n",
              "    </tr>\n",
              "    <tr>\n",
              "      <th>75%</th>\n",
              "      <td>165.000000</td>\n",
              "      <td>32.000000</td>\n",
              "      <td>60.000000</td>\n",
              "      <td>15.840000</td>\n",
              "      <td>15.000000</td>\n",
              "      <td>129.600000</td>\n",
              "      <td>15.500000</td>\n",
              "      <td>12.000000</td>\n",
              "      <td>15.000000</td>\n",
              "      <td>47.840000</td>\n",
              "    </tr>\n",
              "    <tr>\n",
              "      <th>max</th>\n",
              "      <td>227.000000</td>\n",
              "      <td>1899.000000</td>\n",
              "      <td>360.000000</td>\n",
              "      <td>940.010000</td>\n",
              "      <td>15.000000</td>\n",
              "      <td>2848.500000</td>\n",
              "      <td>1140.000000</td>\n",
              "      <td>36.000000</td>\n",
              "      <td>15.000000</td>\n",
              "      <td>2839.010000</td>\n",
              "    </tr>\n",
              "  </tbody>\n",
              "</table>\n",
              "</div>"
            ],
            "text/plain": [
              "       stock_item_id    sales_price  ...       tax_rate  recommended_retail_price\n",
              "count  228265.000000  228265.000000  ...  228265.000000             228265.000000\n",
              "mean      110.181285      45.591689  ...      14.977307                 68.347139\n",
              "std        63.729035     139.862055  ...       0.336081                209.150176\n",
              "min         1.000000       0.660000  ...      10.000000                  0.990000\n",
              "25%        54.000000      13.000000  ...      15.000000                 19.440000\n",
              "50%       111.000000      18.000000  ...      15.000000                 26.910000\n",
              "75%       165.000000      32.000000  ...      15.000000                 47.840000\n",
              "max       227.000000    1899.000000  ...      15.000000               2839.010000\n",
              "\n",
              "[8 rows x 10 columns]"
            ]
          },
          "metadata": {
            "tags": []
          },
          "execution_count": 29
        }
      ]
    },
    {
      "cell_type": "code",
      "metadata": {
        "id": "9k4i0MWlGo9R",
        "colab": {
          "base_uri": "https://localhost:8080/",
          "height": 331
        },
        "outputId": "ce1c2910-4109-45aa-bbcc-804cfb7fd2c0"
      },
      "source": [
        "train_dataset = dataset.sample(frac=PERCENT_TRAINNING,random_state=0)\n",
        "test_dataset = dataset.drop(train_dataset.index)\n",
        "test_dataset_copy = test_dataset\n",
        "\n",
        "train_stats = train_dataset.describe()\n",
        "train_stats.pop(\"sales_price\")\n",
        "train_stats = train_stats.transpose()\n",
        "train_stats"
      ],
      "execution_count": 30,
      "outputs": [
        {
          "output_type": "execute_result",
          "data": {
            "text/html": [
              "<div>\n",
              "<style scoped>\n",
              "    .dataframe tbody tr th:only-of-type {\n",
              "        vertical-align: middle;\n",
              "    }\n",
              "\n",
              "    .dataframe tbody tr th {\n",
              "        vertical-align: top;\n",
              "    }\n",
              "\n",
              "    .dataframe thead th {\n",
              "        text-align: right;\n",
              "    }\n",
              "</style>\n",
              "<table border=\"1\" class=\"dataframe\">\n",
              "  <thead>\n",
              "    <tr style=\"text-align: right;\">\n",
              "      <th></th>\n",
              "      <th>count</th>\n",
              "      <th>mean</th>\n",
              "      <th>std</th>\n",
              "      <th>min</th>\n",
              "      <th>25%</th>\n",
              "      <th>50%</th>\n",
              "      <th>75%</th>\n",
              "      <th>max</th>\n",
              "    </tr>\n",
              "  </thead>\n",
              "  <tbody>\n",
              "    <tr>\n",
              "      <th>stock_item_id</th>\n",
              "      <td>136959.0</td>\n",
              "      <td>110.019962</td>\n",
              "      <td>63.734388</td>\n",
              "      <td>1.00</td>\n",
              "      <td>54.00</td>\n",
              "      <td>111.00</td>\n",
              "      <td>165.00</td>\n",
              "      <td>227.00</td>\n",
              "    </tr>\n",
              "    <tr>\n",
              "      <th>sales_quantity</th>\n",
              "      <td>136959.0</td>\n",
              "      <td>39.142911</td>\n",
              "      <td>54.443931</td>\n",
              "      <td>1.00</td>\n",
              "      <td>5.00</td>\n",
              "      <td>10.00</td>\n",
              "      <td>60.00</td>\n",
              "      <td>360.00</td>\n",
              "    </tr>\n",
              "    <tr>\n",
              "      <th>diference_price</th>\n",
              "      <td>136959.0</td>\n",
              "      <td>22.524254</td>\n",
              "      <td>68.386613</td>\n",
              "      <td>0.33</td>\n",
              "      <td>6.44</td>\n",
              "      <td>8.91</td>\n",
              "      <td>15.84</td>\n",
              "      <td>940.01</td>\n",
              "    </tr>\n",
              "    <tr>\n",
              "      <th>sales_tax_rate</th>\n",
              "      <td>136959.0</td>\n",
              "      <td>14.977548</td>\n",
              "      <td>0.334300</td>\n",
              "      <td>10.00</td>\n",
              "      <td>15.00</td>\n",
              "      <td>15.00</td>\n",
              "      <td>15.00</td>\n",
              "      <td>15.00</td>\n",
              "    </tr>\n",
              "    <tr>\n",
              "      <th>sales_tax_amount</th>\n",
              "      <td>136959.0</td>\n",
              "      <td>112.482198</td>\n",
              "      <td>216.523676</td>\n",
              "      <td>0.38</td>\n",
              "      <td>14.40</td>\n",
              "      <td>34.50</td>\n",
              "      <td>129.60</td>\n",
              "      <td>2848.50</td>\n",
              "    </tr>\n",
              "    <tr>\n",
              "      <th>last_cost_Price</th>\n",
              "      <td>136959.0</td>\n",
              "      <td>23.038628</td>\n",
              "      <td>81.879160</td>\n",
              "      <td>0.36</td>\n",
              "      <td>4.50</td>\n",
              "      <td>8.00</td>\n",
              "      <td>15.50</td>\n",
              "      <td>1140.00</td>\n",
              "    </tr>\n",
              "    <tr>\n",
              "      <th>quantity_per_Outer</th>\n",
              "      <td>136959.0</td>\n",
              "      <td>7.198052</td>\n",
              "      <td>8.191716</td>\n",
              "      <td>1.00</td>\n",
              "      <td>1.00</td>\n",
              "      <td>1.00</td>\n",
              "      <td>12.00</td>\n",
              "      <td>36.00</td>\n",
              "    </tr>\n",
              "    <tr>\n",
              "      <th>tax_rate</th>\n",
              "      <td>136959.0</td>\n",
              "      <td>14.977548</td>\n",
              "      <td>0.334300</td>\n",
              "      <td>10.00</td>\n",
              "      <td>15.00</td>\n",
              "      <td>15.00</td>\n",
              "      <td>15.00</td>\n",
              "      <td>15.00</td>\n",
              "    </tr>\n",
              "    <tr>\n",
              "      <th>recommended_retail_price</th>\n",
              "      <td>136959.0</td>\n",
              "      <td>67.682379</td>\n",
              "      <td>205.964003</td>\n",
              "      <td>0.99</td>\n",
              "      <td>19.44</td>\n",
              "      <td>26.91</td>\n",
              "      <td>47.84</td>\n",
              "      <td>2839.01</td>\n",
              "    </tr>\n",
              "  </tbody>\n",
              "</table>\n",
              "</div>"
            ],
            "text/plain": [
              "                             count        mean  ...     75%      max\n",
              "stock_item_id             136959.0  110.019962  ...  165.00   227.00\n",
              "sales_quantity            136959.0   39.142911  ...   60.00   360.00\n",
              "diference_price           136959.0   22.524254  ...   15.84   940.01\n",
              "sales_tax_rate            136959.0   14.977548  ...   15.00    15.00\n",
              "sales_tax_amount          136959.0  112.482198  ...  129.60  2848.50\n",
              "last_cost_Price           136959.0   23.038628  ...   15.50  1140.00\n",
              "quantity_per_Outer        136959.0    7.198052  ...   12.00    36.00\n",
              "tax_rate                  136959.0   14.977548  ...   15.00    15.00\n",
              "recommended_retail_price  136959.0   67.682379  ...   47.84  2839.01\n",
              "\n",
              "[9 rows x 8 columns]"
            ]
          },
          "metadata": {
            "tags": []
          },
          "execution_count": 30
        }
      ]
    },
    {
      "cell_type": "markdown",
      "metadata": {
        "id": "q1SXuOAMtDbl"
      },
      "source": [
        ""
      ]
    },
    {
      "cell_type": "code",
      "metadata": {
        "id": "5kR71l5gHC6Y",
        "colab": {
          "base_uri": "https://localhost:8080/",
          "height": 383
        },
        "outputId": "5901cd74-a382-4289-ffe6-20e1cbba86f4"
      },
      "source": [
        "train_labels = train_dataset.pop('sales_price')\n",
        "test_labels = test_dataset.pop('sales_price')\n",
        "stockItemIdArray = test_dataset.get('stock_item_id')\n",
        "train_dataset.head(10)"
      ],
      "execution_count": 31,
      "outputs": [
        {
          "output_type": "execute_result",
          "data": {
            "text/html": [
              "<div>\n",
              "<style scoped>\n",
              "    .dataframe tbody tr th:only-of-type {\n",
              "        vertical-align: middle;\n",
              "    }\n",
              "\n",
              "    .dataframe tbody tr th {\n",
              "        vertical-align: top;\n",
              "    }\n",
              "\n",
              "    .dataframe thead th {\n",
              "        text-align: right;\n",
              "    }\n",
              "</style>\n",
              "<table border=\"1\" class=\"dataframe\">\n",
              "  <thead>\n",
              "    <tr style=\"text-align: right;\">\n",
              "      <th></th>\n",
              "      <th>stock_item_id</th>\n",
              "      <th>sales_quantity</th>\n",
              "      <th>diference_price</th>\n",
              "      <th>sales_tax_rate</th>\n",
              "      <th>sales_tax_amount</th>\n",
              "      <th>last_cost_Price</th>\n",
              "      <th>quantity_per_Outer</th>\n",
              "      <th>tax_rate</th>\n",
              "      <th>recommended_retail_price</th>\n",
              "    </tr>\n",
              "  </thead>\n",
              "  <tbody>\n",
              "    <tr>\n",
              "      <th>118448</th>\n",
              "      <td>16</td>\n",
              "      <td>7</td>\n",
              "      <td>6.44</td>\n",
              "      <td>15.0</td>\n",
              "      <td>13.65</td>\n",
              "      <td>4.50</td>\n",
              "      <td>1</td>\n",
              "      <td>15.0</td>\n",
              "      <td>19.44</td>\n",
              "    </tr>\n",
              "    <tr>\n",
              "      <th>22212</th>\n",
              "      <td>82</td>\n",
              "      <td>12</td>\n",
              "      <td>8.91</td>\n",
              "      <td>15.0</td>\n",
              "      <td>32.40</td>\n",
              "      <td>7.50</td>\n",
              "      <td>12</td>\n",
              "      <td>15.0</td>\n",
              "      <td>26.91</td>\n",
              "    </tr>\n",
              "    <tr>\n",
              "      <th>106489</th>\n",
              "      <td>188</td>\n",
              "      <td>200</td>\n",
              "      <td>0.33</td>\n",
              "      <td>15.0</td>\n",
              "      <td>19.80</td>\n",
              "      <td>0.36</td>\n",
              "      <td>25</td>\n",
              "      <td>15.0</td>\n",
              "      <td>0.99</td>\n",
              "    </tr>\n",
              "    <tr>\n",
              "      <th>7764</th>\n",
              "      <td>146</td>\n",
              "      <td>108</td>\n",
              "      <td>8.91</td>\n",
              "      <td>15.0</td>\n",
              "      <td>291.60</td>\n",
              "      <td>15.00</td>\n",
              "      <td>12</td>\n",
              "      <td>15.0</td>\n",
              "      <td>26.91</td>\n",
              "    </tr>\n",
              "    <tr>\n",
              "      <th>222629</th>\n",
              "      <td>154</td>\n",
              "      <td>60</td>\n",
              "      <td>9.90</td>\n",
              "      <td>15.0</td>\n",
              "      <td>180.00</td>\n",
              "      <td>10.00</td>\n",
              "      <td>10</td>\n",
              "      <td>15.0</td>\n",
              "      <td>29.90</td>\n",
              "    </tr>\n",
              "    <tr>\n",
              "      <th>197688</th>\n",
              "      <td>190</td>\n",
              "      <td>200</td>\n",
              "      <td>1.73</td>\n",
              "      <td>15.0</td>\n",
              "      <td>105.00</td>\n",
              "      <td>1.80</td>\n",
              "      <td>20</td>\n",
              "      <td>15.0</td>\n",
              "      <td>5.23</td>\n",
              "    </tr>\n",
              "    <tr>\n",
              "      <th>112111</th>\n",
              "      <td>208</td>\n",
              "      <td>120</td>\n",
              "      <td>1.34</td>\n",
              "      <td>15.0</td>\n",
              "      <td>48.60</td>\n",
              "      <td>1.70</td>\n",
              "      <td>12</td>\n",
              "      <td>15.0</td>\n",
              "      <td>4.04</td>\n",
              "    </tr>\n",
              "    <tr>\n",
              "      <th>203105</th>\n",
              "      <td>80</td>\n",
              "      <td>84</td>\n",
              "      <td>8.91</td>\n",
              "      <td>15.0</td>\n",
              "      <td>226.80</td>\n",
              "      <td>7.00</td>\n",
              "      <td>12</td>\n",
              "      <td>15.0</td>\n",
              "      <td>26.91</td>\n",
              "    </tr>\n",
              "    <tr>\n",
              "      <th>78094</th>\n",
              "      <td>105</td>\n",
              "      <td>1</td>\n",
              "      <td>17.33</td>\n",
              "      <td>15.0</td>\n",
              "      <td>5.25</td>\n",
              "      <td>17.00</td>\n",
              "      <td>1</td>\n",
              "      <td>15.0</td>\n",
              "      <td>52.33</td>\n",
              "    </tr>\n",
              "    <tr>\n",
              "      <th>142530</th>\n",
              "      <td>6</td>\n",
              "      <td>10</td>\n",
              "      <td>15.84</td>\n",
              "      <td>15.0</td>\n",
              "      <td>48.00</td>\n",
              "      <td>12.00</td>\n",
              "      <td>1</td>\n",
              "      <td>15.0</td>\n",
              "      <td>47.84</td>\n",
              "    </tr>\n",
              "  </tbody>\n",
              "</table>\n",
              "</div>"
            ],
            "text/plain": [
              "        stock_item_id  sales_quantity  ...  tax_rate  recommended_retail_price\n",
              "118448             16               7  ...      15.0                     19.44\n",
              "22212              82              12  ...      15.0                     26.91\n",
              "106489            188             200  ...      15.0                      0.99\n",
              "7764              146             108  ...      15.0                     26.91\n",
              "222629            154              60  ...      15.0                     29.90\n",
              "197688            190             200  ...      15.0                      5.23\n",
              "112111            208             120  ...      15.0                      4.04\n",
              "203105             80              84  ...      15.0                     26.91\n",
              "78094             105               1  ...      15.0                     52.33\n",
              "142530              6              10  ...      15.0                     47.84\n",
              "\n",
              "[10 rows x 9 columns]"
            ]
          },
          "metadata": {
            "tags": []
          },
          "execution_count": 31
        }
      ]
    },
    {
      "cell_type": "code",
      "metadata": {
        "id": "oCE3IMj3sO7T"
      },
      "source": [
        "def norm(x):\n",
        "  return (x - train_stats['mean']) / train_stats['std']\n",
        "normed_train_data = norm(train_dataset)\n",
        "normed_test_data = norm(test_dataset)"
      ],
      "execution_count": 32,
      "outputs": []
    },
    {
      "cell_type": "code",
      "metadata": {
        "id": "0_KgGpcWJJ_8"
      },
      "source": [
        "def build_model():\n",
        "  \n",
        "  layersArray= [\n",
        "    layers.Dense(NEURON_LAYER_1, activation=ACTIVATION_1, \n",
        "                 input_shape=[len(train_dataset.keys())]),\n",
        "    layers.Dense(NEURON_LAYER_2, activation=ACTIVATION_2),\n",
        "  ]\n",
        "\n",
        "  if NEURON_LAYER_3>0:\n",
        "    layersArray.append(layers.Dense(NEURON_LAYER_3, activation=ACTIVATION_3)) \n",
        "\n",
        "  layersArray.append(layers.Dense(1))\n",
        "\n",
        "  model = keras.Sequential(layersArray)\n",
        "\n",
        "  OPTIMIZER= tf.keras.optimizers.Adam(LEARNING_RATE) \n",
        "  #OPTIMIZER= tf.keras.optimizers.RMSprop(LEARNING_RATE)\n",
        "  \n",
        "  model.compile(loss=METRICS[1],optimizer=OPTIMIZER,metrics=METRICS)\n",
        "  \n",
        "  return model\n"
      ],
      "execution_count": 33,
      "outputs": []
    },
    {
      "cell_type": "code",
      "metadata": {
        "id": "N_Rfmb5jJpHi",
        "colab": {
          "base_uri": "https://localhost:8080/"
        },
        "outputId": "eeea7b5b-6b78-4b8d-aa46-e950d497031a"
      },
      "source": [
        "model = build_model()\n",
        "model.summary()\n"
      ],
      "execution_count": 34,
      "outputs": [
        {
          "output_type": "stream",
          "text": [
            "Model: \"sequential_1\"\n",
            "_________________________________________________________________\n",
            "Layer (type)                 Output Shape              Param #   \n",
            "=================================================================\n",
            "dense_4 (Dense)              (None, 32)                320       \n",
            "_________________________________________________________________\n",
            "dense_5 (Dense)              (None, 32)                1056      \n",
            "_________________________________________________________________\n",
            "dense_6 (Dense)              (None, 32)                1056      \n",
            "_________________________________________________________________\n",
            "dense_7 (Dense)              (None, 1)                 33        \n",
            "=================================================================\n",
            "Total params: 2,465\n",
            "Trainable params: 2,465\n",
            "Non-trainable params: 0\n",
            "_________________________________________________________________\n"
          ],
          "name": "stdout"
        }
      ]
    },
    {
      "cell_type": "code",
      "metadata": {
        "id": "QnEgiwlM2sCZ",
        "colab": {
          "base_uri": "https://localhost:8080/"
        },
        "outputId": "813ce1ae-5437-46a2-84bf-1226d3b1d72b"
      },
      "source": [
        "example_batch = normed_train_data[:10]\n",
        "example_result = model.predict(example_batch)\n",
        "example_result"
      ],
      "execution_count": 35,
      "outputs": [
        {
          "output_type": "execute_result",
          "data": {
            "text/plain": [
              "array([[-0.44272247],\n",
              "       [-0.43886644],\n",
              "       [-0.5008209 ],\n",
              "       [-0.47602993],\n",
              "       [-0.44415188],\n",
              "       [-0.49959004],\n",
              "       [-0.44668415],\n",
              "       [-0.47559094],\n",
              "       [-0.42990252],\n",
              "       [-0.44923428]], dtype=float32)"
            ]
          },
          "metadata": {
            "tags": []
          },
          "execution_count": 35
        }
      ]
    },
    {
      "cell_type": "code",
      "metadata": {
        "id": "dTStjblTGWVy"
      },
      "source": [
        "class PrintDot(keras.callbacks.Callback):\n",
        "  def on_epoch_end(self, epoch, logs):\n",
        "    if epoch % 100 == 0: print('Inicio')\n",
        "    print('-',epoch, end='')"
      ],
      "execution_count": 36,
      "outputs": []
    },
    {
      "cell_type": "code",
      "metadata": {
        "id": "jJMNnT6bJyoM",
        "colab": {
          "base_uri": "https://localhost:8080/"
        },
        "outputId": "5096ad73-3c49-42dc-e914-c827f2709749"
      },
      "source": [
        "history = model.fit(\n",
        "  normed_train_data, train_labels,\n",
        "  epochs=EPOCHS, validation_split = 0.2, verbose=0,callbacks=[PrintDot()])\n"
      ],
      "execution_count": null,
      "outputs": [
        {
          "output_type": "stream",
          "text": [
            "Inicio\n",
            "- 0- 1- 2- 3- 4- 5"
          ],
          "name": "stdout"
        }
      ]
    },
    {
      "cell_type": "code",
      "metadata": {
        "id": "jYB8MYW1I_HX"
      },
      "source": [
        "hist = pd.DataFrame(history.history)\n",
        "hist['epoch'] = history.epoch\n",
        "hist.tail()"
      ],
      "execution_count": null,
      "outputs": []
    },
    {
      "cell_type": "code",
      "metadata": {
        "id": "hmst1kyoIZWx"
      },
      "source": [
        "def plot_history(history):\n",
        "  hist = pd.DataFrame(history.history)\n",
        "  hist['epoch'] = history.epoch\n",
        "\n",
        "  if 'mae' in hist:\n",
        "    plt.figure()\n",
        "    plt.xlabel('Epoch')\n",
        "    plt.ylabel('Mean Abs Error [salesPrice]')\n",
        "    plt.plot(hist['epoch'], hist['mae'],\n",
        "           label='Train Error')\n",
        "    plt.plot(hist['epoch'], hist['val_mae'],\n",
        "           label = 'Val Error')\n",
        "    plt.ylim([0,5])\n",
        "    plt.legend()\n",
        "  \n",
        "  if 'mse' in hist:\n",
        "    plt.figure()\n",
        "    plt.xlabel('Epoch')\n",
        "    plt.ylabel('Mean Square Error [$sales_price^2$]')\n",
        "    plt.plot(hist['epoch'], hist['mse'],\n",
        "           label='Train Error')\n",
        "    plt.plot(hist['epoch'], hist['val_mse'],\n",
        "           label = 'Val Error')\n",
        "    plt.ylim([0,20])\n",
        "    plt.legend()\n",
        "\n",
        "\n",
        "  plt.show()\n",
        "\n",
        "\n",
        "  \n",
        "plot_history(history)\n"
      ],
      "execution_count": null,
      "outputs": []
    },
    {
      "cell_type": "code",
      "metadata": {
        "id": "ID0PpM-PnoT8"
      },
      "source": [
        "test_predictions = model.predict(normed_test_data).flatten()\n",
        "\n",
        "plt.scatter(test_labels, test_predictions)\n",
        "plt.xlabel('True Values [salesPrice]')\n",
        "plt.ylabel('Predictions [salesPrice]')\n",
        "plt.axis('equal')\n",
        "plt.axis('square')\n",
        "plt.xlim([0,plt.xlim()[1]])\n",
        "plt.ylim([0,plt.ylim()[1]])\n",
        "_ = plt.plot([-100, 2000], [-100, 2000])\n",
        "\n"
      ],
      "execution_count": null,
      "outputs": []
    },
    {
      "cell_type": "code",
      "metadata": {
        "id": "p1LgbIAcn921"
      },
      "source": [
        "error = test_predictions - test_labels\n",
        "plt.hist(error, bins = 25)\n",
        "plt.xlabel(\"Prediction Error [salesPrice]\")\n",
        "_ = plt.ylabel(\"Count\")\n"
      ],
      "execution_count": null,
      "outputs": []
    },
    {
      "cell_type": "code",
      "metadata": {
        "id": "7qMOXeA82cHp"
      },
      "source": [
        "loss, mae, mse = model.evaluate(normed_test_data, test_labels, verbose=2)\n",
        "\n",
        "print(\"Testing set Mean Abs Error: {:5.2f} sales_price\".format(mae))\n",
        "\n",
        "\n",
        "\n",
        "\n"
      ],
      "execution_count": null,
      "outputs": []
    },
    {
      "cell_type": "code",
      "metadata": {
        "id": "jWqp1AX39oWT"
      },
      "source": [
        "error = test_predictions - test_labels\n",
        "plt.hist(error, bins = 25)\n",
        "plt.xlabel(\"Prediction Error [sales_price]\")\n",
        "_ = plt.ylabel(\"Count\")\n"
      ],
      "execution_count": null,
      "outputs": []
    },
    {
      "cell_type": "code",
      "metadata": {
        "id": "q-Brxvi49cEe"
      },
      "source": [
        "for stockItemId,originalValue,prediction in zip(stockItemIdArray,test_labels,test_predictions):\n",
        "  print(\"stock_item_id:\",stockItemId,\"Original Value:\",originalValue,\"prediction Value:\",prediction)"
      ],
      "execution_count": null,
      "outputs": []
    }
  ]
}